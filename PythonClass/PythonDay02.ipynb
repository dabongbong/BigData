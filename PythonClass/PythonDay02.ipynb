{
  "nbformat": 4,
  "nbformat_minor": 0,
  "metadata": {
    "colab": {
      "name": "PythonDay02.ipynb",
      "provenance": [],
      "collapsed_sections": []
    },
    "kernelspec": {
      "name": "python3",
      "display_name": "Python 3"
    },
    "language_info": {
      "name": "python"
    }
  },
  "cells": [
    {
      "cell_type": "code",
      "metadata": {
        "colab": {
          "base_uri": "https://localhost:8080/"
        },
        "id": "eH6d8RiwM78o",
        "outputId": "f50b9c96-886f-4b37-bc02-a4c739e07be8"
      },
      "source": [
        "#커피자판기\n",
        "#남은 커피가 있으면 판매=>판매=>판매=> 더이상 커피가 없으면 판매중지..\n",
        "\n",
        "coffee = 10\n",
        "money = 300\n",
        "\n",
        "while money:\n",
        "  print(\"커피를 판매합니다.\")\n",
        "  coffee -= 1   #coffee = coffee - 1\n",
        "  print(\"남은 커피의 양은 %d개 입니다.\" %coffee)\n",
        "  if coffee == 0:\n",
        "    print(\"커피가 다 떨어졌습니다. 판매를 중지합니다.\")\n",
        "    break"
      ],
      "execution_count": 1,
      "outputs": [
        {
          "output_type": "stream",
          "name": "stdout",
          "text": [
            "커피를 판매합니다.\n",
            "남은 커피의 양은 9개 입니다.\n",
            "커피를 판매합니다.\n",
            "남은 커피의 양은 8개 입니다.\n",
            "커피를 판매합니다.\n",
            "남은 커피의 양은 7개 입니다.\n",
            "커피를 판매합니다.\n",
            "남은 커피의 양은 6개 입니다.\n",
            "커피를 판매합니다.\n",
            "남은 커피의 양은 5개 입니다.\n",
            "커피를 판매합니다.\n",
            "남은 커피의 양은 4개 입니다.\n",
            "커피를 판매합니다.\n",
            "남은 커피의 양은 3개 입니다.\n",
            "커피를 판매합니다.\n",
            "남은 커피의 양은 2개 입니다.\n",
            "커피를 판매합니다.\n",
            "남은 커피의 양은 1개 입니다.\n",
            "커피를 판매합니다.\n",
            "남은 커피의 양은 0개 입니다.\n",
            "커피가 다 떨어졌습니다. 판매를 중지합니다.\n"
          ]
        }
      ]
    },
    {
      "cell_type": "code",
      "metadata": {
        "colab": {
          "base_uri": "https://localhost:8080/"
        },
        "id": "ZxWMaFGUOEpC",
        "outputId": "a03e98de-aed8-497b-8292-ae26d09ca656"
      },
      "source": [
        "coffee = 10\n",
        "while True:\n",
        "  money = int(input(\"돈을 넣어 주세요 : \"))\n",
        "  if money == 300:\n",
        "    print(\"커피를 드립니다\")\n",
        "    coffee -= 1\n",
        "  elif money > 300:\n",
        "    print(\"거스름돈 %d원을 주고 커피를 드립니다.\"%(money-300))\n",
        "    coffee -= 1\n",
        "  else :\n",
        "    print(\"돈을 다시 돌려 드리고 커피는 드리지 않습니다.\")\n",
        "  print(\"남은 커피의 양은 %d개 입니다.\"%coffee)\n",
        "  if coffee == 0:\n",
        "    print(\"커피가 다 떨어졌습니다. 판매를 중지합니다.\")\n",
        "    break"
      ],
      "execution_count": 7,
      "outputs": [
        {
          "output_type": "stream",
          "name": "stdout",
          "text": [
            "돈을 넣어 주세요 : 300\n",
            "커피를 드립니다\n",
            "남은 커피의 양은 9개 입니다.\n",
            "돈을 넣어 주세요 : 100\n",
            "돈을 다시 돌려 드리고 커피는 드리지 않습니다.\n",
            "남은 커피의 양은 9개 입니다.\n",
            "돈을 넣어 주세요 : 400\n",
            "거스름돈 100원을 주고 커피를 드립니다.\n",
            "남은 커피의 양은 8개 입니다.\n",
            "돈을 넣어 주세요 : 300\n",
            "커피를 드립니다\n",
            "남은 커피의 양은 7개 입니다.\n",
            "돈을 넣어 주세요 : 200\n",
            "돈을 다시 돌려 드리고 커피는 드리지 않습니다.\n",
            "남은 커피의 양은 7개 입니다.\n",
            "돈을 넣어 주세요 : 300\n",
            "커피를 드립니다\n",
            "남은 커피의 양은 6개 입니다.\n",
            "돈을 넣어 주세요 : 300\n",
            "커피를 드립니다\n",
            "남은 커피의 양은 5개 입니다.\n",
            "돈을 넣어 주세요 : 300\n",
            "커피를 드립니다\n",
            "남은 커피의 양은 4개 입니다.\n",
            "돈을 넣어 주세요 : 00\n",
            "돈을 다시 돌려 드리고 커피는 드리지 않습니다.\n",
            "남은 커피의 양은 4개 입니다.\n",
            "돈을 넣어 주세요 : 300\n",
            "커피를 드립니다\n",
            "남은 커피의 양은 3개 입니다.\n",
            "돈을 넣어 주세요 : 300\n",
            "커피를 드립니다\n",
            "남은 커피의 양은 2개 입니다.\n",
            "돈을 넣어 주세요 : 1000\n",
            "거스름돈 700원을 주고 커피를 드립니다.\n",
            "남은 커피의 양은 1개 입니다.\n",
            "돈을 넣어 주세요 : 200\n",
            "돈을 다시 돌려 드리고 커피는 드리지 않습니다.\n",
            "남은 커피의 양은 1개 입니다.\n",
            "돈을 넣어 주세요 : 3000\n",
            "거스름돈 2700원을 주고 커피를 드립니다.\n",
            "남은 커피의 양은 0개 입니다.\n",
            "커피가 다 떨어졌습니다. 판매를 중지합니다.\n"
          ]
        }
      ]
    },
    {
      "cell_type": "code",
      "metadata": {
        "colab": {
          "base_uri": "https://localhost:8080/"
        },
        "id": "l3JWtBuHPx86",
        "outputId": "1e4582ce-43e8-402b-f68f-bd17a0c5506a"
      },
      "source": [
        "a = 0\n",
        "while a < 10 :\n",
        "  a+=1\n",
        "  if a % 2 == 0 : continue\n",
        "  print(a)\n"
      ],
      "execution_count": 8,
      "outputs": [
        {
          "output_type": "stream",
          "name": "stdout",
          "text": [
            "1\n",
            "3\n",
            "5\n",
            "7\n",
            "9\n"
          ]
        }
      ]
    },
    {
      "cell_type": "code",
      "metadata": {
        "colab": {
          "base_uri": "https://localhost:8080/"
        },
        "id": "BezWoNfnRAgr",
        "outputId": "d65faec2-5f24-4dcf-984f-f0bfa9e853fc"
      },
      "source": [
        "# For 반복문\n",
        "# 파이썬의 직관적인 특징을 잘 보여주는 것이 for문이다.\n",
        "# while문과 비슷하지만 for 문은 매우 많이 사용되고 문장 구조가 한눈에 파악하기 쉽다.\n",
        "list = [1,2,3,4,5]\n",
        "for i in list:\n",
        "  print(i)"
      ],
      "execution_count": 9,
      "outputs": [
        {
          "output_type": "stream",
          "name": "stdout",
          "text": [
            "1\n",
            "2\n",
            "3\n",
            "4\n",
            "5\n"
          ]
        }
      ]
    },
    {
      "cell_type": "code",
      "metadata": {
        "colab": {
          "base_uri": "https://localhost:8080/"
        },
        "id": "Bj_c7UJiSNll",
        "outputId": "a9fa1364-2a93-49d0-943a-7863cd395d41"
      },
      "source": [
        "a = [(1,2),(3,4),(5,6)]\n",
        "for x, y in a:\n",
        "  print(x,y)"
      ],
      "execution_count": 10,
      "outputs": [
        {
          "output_type": "stream",
          "name": "stdout",
          "text": [
            "1 2\n",
            "3 4\n",
            "5 6\n"
          ]
        }
      ]
    },
    {
      "cell_type": "code",
      "metadata": {
        "colab": {
          "base_uri": "https://localhost:8080/"
        },
        "id": "07gSNLLoS4jj",
        "outputId": "0b89a7f6-d9ad-41a3-de33-86f8bee33d78"
      },
      "source": [
        "#Quiz 5명의 학생 점수에서 60점이 넘으면 합격 아니면 불합격을 출력하시오\n",
        "score = [90, 70, 50, 40, 80]\n",
        "student = 0\n",
        "for grade in score:\n",
        "  student += 1\n",
        "  if grade >= 60:\n",
        "    print(\"%d번 학생은 합격입니다.\"%student)\n",
        "  else:\n",
        "    print(\"%d번 학생은 불합격입니다.\"%student)"
      ],
      "execution_count": 12,
      "outputs": [
        {
          "output_type": "stream",
          "name": "stdout",
          "text": [
            "1번 학생은 합격입니다.\n",
            "2번 학생은 합격입니다.\n",
            "3번 학생은 불합격입니다.\n",
            "4번 학생은 불합격입니다.\n",
            "5번 학생은 합격입니다.\n"
          ]
        }
      ]
    },
    {
      "cell_type": "code",
      "metadata": {
        "colab": {
          "base_uri": "https://localhost:8080/"
        },
        "id": "nKvd60BGUdKF",
        "outputId": "6274651b-e16a-4c7e-d1a6-d883f1663747"
      },
      "source": [
        "# range 함수와 for문\n",
        "# range(strat, stop, step) start 를 생략하면 0부터, step을 생략하면 1씩 증가\n",
        "\n",
        "add = 0\n",
        "for i in range (1,11):\n",
        "  add+= i\n",
        "\n",
        "print(add)"
      ],
      "execution_count": 13,
      "outputs": [
        {
          "output_type": "stream",
          "name": "stdout",
          "text": [
            "55\n"
          ]
        }
      ]
    },
    {
      "cell_type": "code",
      "metadata": {
        "colab": {
          "base_uri": "https://localhost:8080/"
        },
        "id": "a0VG2jx8ZB9D",
        "outputId": "dc6ab4fd-534a-439f-e6d9-f40a00842b5e"
      },
      "source": [
        "# for 문과 range를 이용하여 구구단을 표시하세요\n",
        "res = 0\n",
        "for i in range(2,10):\n",
        "  for j in range(1,10):\n",
        "    print(i*j,end=\" \")\n",
        "  print(\"\")\n",
        "    \n",
        "  "
      ],
      "execution_count": 23,
      "outputs": [
        {
          "output_type": "stream",
          "name": "stdout",
          "text": [
            "2 4 6 8 10 12 14 16 18 \n",
            "3 6 9 12 15 18 21 24 27 \n",
            "4 8 12 16 20 24 28 32 36 \n",
            "5 10 15 20 25 30 35 40 45 \n",
            "6 12 18 24 30 36 42 48 54 \n",
            "7 14 21 28 35 42 49 56 63 \n",
            "8 16 24 32 40 48 56 64 72 \n",
            "9 18 27 36 45 54 63 72 81 \n"
          ]
        }
      ]
    },
    {
      "cell_type": "code",
      "metadata": {
        "colab": {
          "base_uri": "https://localhost:8080/"
        },
        "id": "GjzC_FQhadrb",
        "outputId": "336ea88e-f593-49c8-c99b-6acfb230415c"
      },
      "source": [
        "# List comprehension (리스트 내포)\n",
        "\n",
        "# Without\n",
        "a = [1,2,3,4]\n",
        "result = []\n",
        "for n in a:\n",
        "  result.append(n*3)\n",
        "\n",
        "print(result)"
      ],
      "execution_count": 24,
      "outputs": [
        {
          "output_type": "stream",
          "name": "stdout",
          "text": [
            "[3, 6, 9, 12]\n"
          ]
        }
      ]
    },
    {
      "cell_type": "code",
      "metadata": {
        "colab": {
          "base_uri": "https://localhost:8080/"
        },
        "id": "BzBr5Nybcf1O",
        "outputId": "806680e9-b30d-4ddb-c00d-3b524793d787"
      },
      "source": [
        "# with..\n",
        "a = [1,2,3,4]\n",
        "result = [n * 3 for n in a]\n",
        "print(result)"
      ],
      "execution_count": 25,
      "outputs": [
        {
          "output_type": "stream",
          "name": "stdout",
          "text": [
            "[3, 6, 9, 12]\n"
          ]
        }
      ]
    },
    {
      "cell_type": "code",
      "metadata": {
        "colab": {
          "base_uri": "https://localhost:8080/"
        },
        "id": "CQliXowhdFHC",
        "outputId": "bc46ac11-cdbc-466b-ddc7-8495dfd653b5"
      },
      "source": [
        "a = [1,2,3,4]\n",
        "result = [n * 3 for n in a if n % 2 == 0]\n",
        "print(result)"
      ],
      "execution_count": 26,
      "outputs": [
        {
          "output_type": "stream",
          "name": "stdout",
          "text": [
            "[6, 12]\n"
          ]
        }
      ]
    },
    {
      "cell_type": "code",
      "metadata": {
        "colab": {
          "base_uri": "https://localhost:8080/"
        },
        "id": "T8JvU7ajdmmj",
        "outputId": "84ff8e57-7ea4-4e13-a03e-443fede7a465"
      },
      "source": [
        "#for문을 사용해서 1부터 100까지의 자연수 중 짝수의 합을 계산하셔요\n",
        "res = 0\n",
        "for i in range(0,101,2):\n",
        "  res +=i\n",
        "print(res)"
      ],
      "execution_count": 33,
      "outputs": [
        {
          "output_type": "stream",
          "name": "stdout",
          "text": [
            "2550\n"
          ]
        }
      ]
    },
    {
      "cell_type": "code",
      "metadata": {
        "colab": {
          "base_uri": "https://localhost:8080/"
        },
        "id": "mgT140YcemEP",
        "outputId": "f91e2d46-3956-4991-9f63-d6d8ecd04fd6"
      },
      "source": [
        "# while을 사용해서 아래 그림을 표시하세요\n",
        "a = 1\n",
        "while a < 6:\n",
        "  print('*' * a)\n",
        "  a+=1"
      ],
      "execution_count": 42,
      "outputs": [
        {
          "output_type": "stream",
          "name": "stdout",
          "text": [
            "*\n",
            "**\n",
            "***\n",
            "****\n",
            "*****\n"
          ]
        }
      ]
    },
    {
      "cell_type": "code",
      "metadata": {
        "colab": {
          "base_uri": "https://localhost:8080/"
        },
        "id": "rOFIvVJvfj4i",
        "outputId": "185e2e6c-c9ab-415e-9afe-c194c739d3ba"
      },
      "source": [
        "score = [70, 60, 55, 75, 95, 90, 80, 80, 85, 100]\n",
        "sum = 0\n",
        "for i in score:\n",
        "  sum += i\n",
        "print(sum/len(score))"
      ],
      "execution_count": 6,
      "outputs": [
        {
          "output_type": "stream",
          "name": "stdout",
          "text": [
            "79.0\n"
          ]
        }
      ]
    },
    {
      "cell_type": "code",
      "metadata": {
        "colab": {
          "base_uri": "https://localhost:8080/"
        },
        "id": "UV-PTN81hsmM",
        "outputId": "a3abe4e1-468c-4304-dde9-db166abd51be"
      },
      "source": [
        "#리스트에서 홀수만 2를 곱하여 result 리스트로 저장\n",
        "\n",
        "n = [1,2,3,4,5]\n",
        "result = [a * 2 for a in n if a % 2 != 0 ]\n",
        "\n",
        "print(result)"
      ],
      "execution_count": 8,
      "outputs": [
        {
          "output_type": "stream",
          "name": "stdout",
          "text": [
            "[2, 6, 10]\n"
          ]
        }
      ]
    },
    {
      "cell_type": "code",
      "metadata": {
        "colab": {
          "base_uri": "https://localhost:8080/"
        },
        "id": "pYBJFdkq0rBP",
        "outputId": "3fe2b362-0e8a-4fc9-9fb0-3b2707d1d207"
      },
      "source": [
        "#def 함수명(변수):\n",
        "#  수행\n",
        "#  수행\n",
        "#  수행\n",
        "#  return 값\n",
        "\n",
        "def add(a,b):\n",
        "  return a+b\n",
        "\n",
        "c = add(3,4)\n",
        "c"
      ],
      "execution_count": 10,
      "outputs": [
        {
          "output_type": "execute_result",
          "data": {
            "text/plain": [
              "7"
            ]
          },
          "metadata": {},
          "execution_count": 10
        }
      ]
    },
    {
      "cell_type": "code",
      "metadata": {
        "id": "0BDJBoUi3YqF"
      },
      "source": [
        "# 4가지 함수의 형태\n",
        "# 1. 입력값도 있고 출력값도 있는 함수\n",
        "# 2. 입력값은 있고 출력값은 없는 함수\n",
        "# 3. 입력값은 없고 출력값은 있는 함수\n",
        "# 4. 입력값은 없고 출력값도 없는 함수"
      ],
      "execution_count": 11,
      "outputs": []
    },
    {
      "cell_type": "code",
      "metadata": {
        "colab": {
          "base_uri": "https://localhost:8080/"
        },
        "id": "JCgbuRP_4xRI",
        "outputId": "79ad3e8a-73c7-4a67-d541-dbd1bb915ebf"
      },
      "source": [
        "# 2. 입력값은 있고 출력값은 없는 함수\n",
        "def say(a):\n",
        "  print(a)\n",
        "\n",
        "say('Hi') "
      ],
      "execution_count": 20,
      "outputs": [
        {
          "output_type": "stream",
          "name": "stdout",
          "text": [
            "Hi\n"
          ]
        }
      ]
    },
    {
      "cell_type": "code",
      "metadata": {
        "colab": {
          "base_uri": "https://localhost:8080/",
          "height": 35
        },
        "id": "ZPIL0r6841bJ",
        "outputId": "59bd077a-1d6b-4670-f086-98570d2bb241"
      },
      "source": [
        "# 3. 입력값은 없고 출력값은 있는 함수\n",
        "def say():\n",
        "  return 'Hi'\n",
        "\n",
        "say() "
      ],
      "execution_count": 19,
      "outputs": [
        {
          "output_type": "execute_result",
          "data": {
            "application/vnd.google.colaboratory.intrinsic+json": {
              "type": "string"
            },
            "text/plain": [
              "'HiHiHiHiHiHiHiHiHi'"
            ]
          },
          "metadata": {},
          "execution_count": 19
        }
      ]
    },
    {
      "cell_type": "code",
      "metadata": {
        "colab": {
          "base_uri": "https://localhost:8080/"
        },
        "id": "daG04naV5U0s",
        "outputId": "7fe9fbe1-8284-4613-bf4c-911df4edad81"
      },
      "source": [
        "# 4. 입력값은 없고 출력값도 없는 함수\n",
        "def say():\n",
        "  print('Hi')\n",
        "\n",
        "say()"
      ],
      "execution_count": 16,
      "outputs": [
        {
          "output_type": "stream",
          "name": "stdout",
          "text": [
            "Hi\n"
          ]
        }
      ]
    },
    {
      "cell_type": "code",
      "metadata": {
        "colab": {
          "base_uri": "https://localhost:8080/"
        },
        "id": "YPMeJ4VP5o0Y",
        "outputId": "599a55cf-8edb-4bb6-c8c8-b98449479960"
      },
      "source": [
        "#입력이 몇개가 될 지 모를때\n",
        "\n",
        "def add_many(*args):\n",
        "  result = 0\n",
        "  for i in args:\n",
        "    result = result + i\n",
        "  return result\n",
        "\n",
        "add_many(1,2,3,4,5,6,7,8,9,10)"
      ],
      "execution_count": 17,
      "outputs": [
        {
          "output_type": "execute_result",
          "data": {
            "text/plain": [
              "55"
            ]
          },
          "metadata": {},
          "execution_count": 17
        }
      ]
    },
    {
      "cell_type": "code",
      "metadata": {
        "colab": {
          "base_uri": "https://localhost:8080/"
        },
        "id": "gkz5GhUP62Ue",
        "outputId": "46e5e83f-d11d-4ca9-8d83-9bebf36a4cc5"
      },
      "source": [
        "#함수의 결과값은 언제나 하나이다\n",
        "\n",
        "def add_mul(a,b):\n",
        "  return a+b, a*b\n",
        "result = add_mul(3,4)\n",
        "print(result)"
      ],
      "execution_count": 21,
      "outputs": [
        {
          "output_type": "stream",
          "name": "stdout",
          "text": [
            "(7, 12)\n"
          ]
        }
      ]
    },
    {
      "cell_type": "code",
      "metadata": {
        "colab": {
          "base_uri": "https://localhost:8080/"
        },
        "id": "z3mJSpPR9YqL",
        "outputId": "e52d5ea4-6be7-42c9-b809-a1267d3f3000"
      },
      "source": [
        "result1, result2 = add_mul(3,4)\n",
        "print(result1)\n",
        "print(result2)"
      ],
      "execution_count": 22,
      "outputs": [
        {
          "output_type": "stream",
          "name": "stdout",
          "text": [
            "7\n",
            "12\n"
          ]
        }
      ]
    },
    {
      "cell_type": "code",
      "metadata": {
        "colab": {
          "base_uri": "https://localhost:8080/"
        },
        "id": "4MEJcAQE9f7U",
        "outputId": "03ae4dc2-0ded-4b3e-b548-cbd282781daa"
      },
      "source": [
        "def add_mul(a,b):\n",
        "  return a+b\n",
        "  return a*bin\n",
        "result = add_mul(3,4)\n",
        "print(result)\n",
        "  "
      ],
      "execution_count": 23,
      "outputs": [
        {
          "output_type": "stream",
          "name": "stdout",
          "text": [
            "7\n"
          ]
        }
      ]
    },
    {
      "cell_type": "code",
      "metadata": {
        "colab": {
          "base_uri": "https://localhost:8080/"
        },
        "id": "yDOnRoab-GDU",
        "outputId": "03938c67-c79d-484a-9447-63023082693a"
      },
      "source": [
        "def say(name, old, man = True):\n",
        "  print(\"나의 이름은 %s 입니다.\"%name)\n",
        "  print(\"나이는 %d 살입니다.\" %old)\n",
        "  if man: \n",
        "    print(\"남자입니다.\")\n",
        "  else:\n",
        "    print(\"여자입니다.\")\n",
        "\n",
        "say(\"홍길동\", 17)"
      ],
      "execution_count": 25,
      "outputs": [
        {
          "output_type": "stream",
          "name": "stdout",
          "text": [
            "나의 이름은 홍길동 입니다.\n",
            "나이는 17 살입니다.\n",
            "남자입니다.\n"
          ]
        }
      ]
    },
    {
      "cell_type": "code",
      "metadata": {
        "colab": {
          "base_uri": "https://localhost:8080/"
        },
        "id": "OBcV6Von-qRu",
        "outputId": "5f1e717a-e0ae-470c-ca57-063eb80438d3"
      },
      "source": [
        "say(\"성춘향\", 14, False)"
      ],
      "execution_count": 26,
      "outputs": [
        {
          "output_type": "stream",
          "name": "stdout",
          "text": [
            "나의 이름은 성춘향 입니다.\n",
            "나이는 14 살입니다.\n",
            "여자입니다.\n"
          ]
        }
      ]
    },
    {
      "cell_type": "code",
      "metadata": {
        "colab": {
          "base_uri": "https://localhost:8080/"
        },
        "id": "UD14K5yN--tA",
        "outputId": "dfaa01dc-a521-4b3f-f15e-0f8f52043b3f"
      },
      "source": [
        "def say(name, old, man = True):\n",
        "  print(\"나의 이름은 %s 입니다.\"%name)\n",
        "  say(\"홍길동\", 17)\n",
        "  if man: \n",
        "    print(\"남자입니다.\")\n",
        "  else:\n",
        "    print(\"여자입니다.\")\n",
        "\n",
        "  print(\"나이는 %d 살입니다.\" %old)"
      ],
      "execution_count": 28,
      "outputs": [
        {
          "output_type": "stream",
          "name": "stdout",
          "text": [
            "나의 이름은 홍길동 입니다.\n",
            "남자입니다.\n",
            "나이는 17 살입니다.\n"
          ]
        }
      ]
    },
    {
      "cell_type": "code",
      "metadata": {
        "colab": {
          "base_uri": "https://localhost:8080/"
        },
        "id": "Utw7Ryj3_D2j",
        "outputId": "3e6ac249-6428-4102-966c-1b9522900e88"
      },
      "source": [
        "# 함수에서 선언한 변수의 효력 범위\n",
        "a = 1\n",
        "def vartest(a):\n",
        "  a = a + 1\n",
        "  return a\n",
        "\n",
        "vartest(a)\n",
        "print(vartest(a))\n",
        "print(a)"
      ],
      "execution_count": 32,
      "outputs": [
        {
          "output_type": "stream",
          "name": "stdout",
          "text": [
            "2\n",
            "1\n"
          ]
        }
      ]
    },
    {
      "cell_type": "code",
      "metadata": {
        "colab": {
          "base_uri": "https://localhost:8080/",
          "height": 198
        },
        "id": "2GK23CUd_kOI",
        "outputId": "96aea03d-ca70-47bc-9aa0-3f9e0e3c87f5"
      },
      "source": [
        "def vartest(z):\n",
        "  z = z+1\n",
        "\n",
        "vartest(3)\n",
        "print(z)"
      ],
      "execution_count": 35,
      "outputs": [
        {
          "output_type": "error",
          "ename": "NameError",
          "evalue": "ignored",
          "traceback": [
            "\u001b[0;31m---------------------------------------------------------------------------\u001b[0m",
            "\u001b[0;31mNameError\u001b[0m                                 Traceback (most recent call last)",
            "\u001b[0;32m<ipython-input-35-e0a4ac70197b>\u001b[0m in \u001b[0;36m<module>\u001b[0;34m()\u001b[0m\n\u001b[1;32m      3\u001b[0m \u001b[0;34m\u001b[0m\u001b[0m\n\u001b[1;32m      4\u001b[0m \u001b[0mvartest\u001b[0m\u001b[0;34m(\u001b[0m\u001b[0;36m3\u001b[0m\u001b[0;34m)\u001b[0m\u001b[0;34m\u001b[0m\u001b[0;34m\u001b[0m\u001b[0m\n\u001b[0;32m----> 5\u001b[0;31m \u001b[0mprint\u001b[0m\u001b[0;34m(\u001b[0m\u001b[0mz\u001b[0m\u001b[0;34m)\u001b[0m\u001b[0;34m\u001b[0m\u001b[0;34m\u001b[0m\u001b[0m\n\u001b[0m",
            "\u001b[0;31mNameError\u001b[0m: name 'z' is not defined"
          ]
        }
      ]
    },
    {
      "cell_type": "code",
      "metadata": {
        "colab": {
          "base_uri": "https://localhost:8080/"
        },
        "id": "RIFurswbHNtr",
        "outputId": "46c1aa87-d29f-4a83-e0b9-0f08eece6c2c"
      },
      "source": [
        "#람다\n",
        "#def와 동일한 역할을 한다. 보통 함수를 한줄로 간단하게 만들때 사용한다\n",
        "\n",
        "def add(a,b):\n",
        "  return a+b\n",
        "\n",
        "r = add(3,4)\n",
        "print(r)"
      ],
      "execution_count": 36,
      "outputs": [
        {
          "output_type": "stream",
          "name": "stdout",
          "text": [
            "7\n"
          ]
        }
      ]
    },
    {
      "cell_type": "code",
      "metadata": {
        "colab": {
          "base_uri": "https://localhost:8080/"
        },
        "id": "rG-bqXndJwSG",
        "outputId": "63d605e4-3160-4ab2-dac9-7650ba1b9eb9"
      },
      "source": [
        "add = lambda a, b : a + b    # lambda 변수1, 변수2, ... : 변수를 이용한 식\n",
        "r = add(3,4)\n",
        "print(r)"
      ],
      "execution_count": 38,
      "outputs": [
        {
          "output_type": "stream",
          "name": "stdout",
          "text": [
            "7\n"
          ]
        }
      ]
    },
    {
      "cell_type": "code",
      "metadata": {
        "colab": {
          "base_uri": "https://localhost:8080/"
        },
        "id": "K-qo6nz1J6CK",
        "outputId": "f33c378a-64c4-4b92-cac5-c5cb5a1f1699"
      },
      "source": [
        "# 사용자 입출력(input/print)\n",
        "a = input()\n",
        "\n",
        "type(a)"
      ],
      "execution_count": 39,
      "outputs": [
        {
          "name": "stdout",
          "output_type": "stream",
          "text": [
            "123\n"
          ]
        },
        {
          "output_type": "execute_result",
          "data": {
            "text/plain": [
              "str"
            ]
          },
          "metadata": {},
          "execution_count": 39
        }
      ]
    },
    {
      "cell_type": "code",
      "metadata": {
        "colab": {
          "base_uri": "https://localhost:8080/"
        },
        "id": "5HfkQlOrK3jO",
        "outputId": "c4982289-8cfe-4e06-ac2c-33fe5ebdbde0"
      },
      "source": [
        "a = int(input())\n",
        "\n",
        "type(a)"
      ],
      "execution_count": 40,
      "outputs": [
        {
          "name": "stdout",
          "output_type": "stream",
          "text": [
            "123\n"
          ]
        },
        {
          "output_type": "execute_result",
          "data": {
            "text/plain": [
              "int"
            ]
          },
          "metadata": {},
          "execution_count": 40
        }
      ]
    },
    {
      "cell_type": "code",
      "metadata": {
        "colab": {
          "base_uri": "https://localhost:8080/"
        },
        "id": "oCIVmFhnK624",
        "outputId": "33919ebe-a270-44c7-a697-9e77854ea535"
      },
      "source": [
        "#숫자를 입력받아서 그 수자가 홀수 인지 짝수인지 판별하는 함수를 만들어 보자\n",
        "def chk():\n",
        "  num = int(input())\n",
        "  if num % 2 ==0 :\n",
        "    print(\"짝수입니다.\")\n",
        "  else:\n",
        "    print(\"홀수입니다.\")\n",
        "chk()"
      ],
      "execution_count": 43,
      "outputs": [
        {
          "output_type": "stream",
          "name": "stdout",
          "text": [
            "5\n",
            "홀수입니다.\n"
          ]
        }
      ]
    },
    {
      "cell_type": "code",
      "metadata": {
        "colab": {
          "base_uri": "https://localhost:8080/",
          "height": 130
        },
        "id": "qgL2HDPVLzYk",
        "outputId": "0d5a94ae-66ad-4032-df91-4d5875bafff6"
      },
      "source": [
        "#입력으로 들어오는 모든 수의 평균을 구하는 함수\n",
        "def avg(*args):\n",
        "  sum = 0\n",
        "  for i in args:\n",
        "    sum += i\n",
        "  return sum / len(args)\n",
        "\n",
        "avg()"
      ],
      "execution_count": 50,
      "outputs": [
        {
          "output_type": "error",
          "ename": "SyntaxError",
          "evalue": "ignored",
          "traceback": [
            "\u001b[0;36m  File \u001b[0;32m\"<ipython-input-50-93b9bfe95130>\"\u001b[0;36m, line \u001b[0;32m8\u001b[0m\n\u001b[0;31m    avg(int(input())\u001b[0m\n\u001b[0m                    ^\u001b[0m\n\u001b[0;31mSyntaxError\u001b[0m\u001b[0;31m:\u001b[0m unexpected EOF while parsing\n"
          ]
        }
      ]
    },
    {
      "cell_type": "code",
      "metadata": {
        "colab": {
          "base_uri": "https://localhost:8080/"
        },
        "id": "LiTZZihfNUL-",
        "outputId": "64d9fa83-6f44-4bd0-89c7-8c7c7120cb04"
      },
      "source": [
        "def add_mul(choice, *args):\n",
        "  if choice == \"add\":\n",
        "    result = 0\n",
        "    for i in args:\n",
        "      result += i\n",
        "  elif choice == \"mul\":\n",
        "    result = 1\n",
        "    for i in args:\n",
        "      result *= i\n",
        "  return result\n",
        "\n",
        "print(add_mul(\"add\", 1,2,3,4,5,6,7))\n",
        "print(add_mul(\"mul\", 1,2,3,4))\n"
      ],
      "execution_count": 53,
      "outputs": [
        {
          "output_type": "stream",
          "name": "stdout",
          "text": [
            "28\n",
            "24\n"
          ]
        }
      ]
    },
    {
      "cell_type": "code",
      "metadata": {
        "id": "kjINE1qORcRJ"
      },
      "source": [
        "# 파일 읽고 쓰기.\n",
        "\n",
        "# 파일 생성\n",
        "f = open(\"파일 이름.txt\", 'w')\n",
        "f.close()\n",
        "\n",
        "\n",
        "# w 쓰기    r 읽기    a 추가"
      ],
      "execution_count": null,
      "outputs": []
    },
    {
      "cell_type": "code",
      "metadata": {
        "colab": {
          "base_uri": "https://localhost:8080/"
        },
        "id": "tEfzrMn9TkhM",
        "outputId": "e1e7531c-26e2-47e8-8537-a208ba777169"
      },
      "source": [
        "f = open(\"새파일.txt\", 'w')\n",
        "for i in range(1, 11):\n",
        "  data = \"%d번째 줄입니다. \\n \" %i\n",
        "  f.write(data)\n",
        "f.close"
      ],
      "execution_count": 56,
      "outputs": [
        {
          "output_type": "execute_result",
          "data": {
            "text/plain": [
              "<function TextIOWrapper.close>"
            ]
          },
          "metadata": {},
          "execution_count": 56
        }
      ]
    },
    {
      "cell_type": "code",
      "metadata": {
        "id": "HQWpwHu2UEYW"
      },
      "source": [
        ""
      ],
      "execution_count": null,
      "outputs": []
    }
  ]
}