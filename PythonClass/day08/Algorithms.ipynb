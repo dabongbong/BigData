{
 "cells": [
  {
   "cell_type": "markdown",
   "source": [
    "이진 탐색법 Binart Search\n",
    "\n",
    "    - 데이터를 절반씩 줄여가면서 탐색한다.\n",
    "    - 이진탐색은 미리 정렬이 되어 있어야만 사용 가능하다\n"
   ],
   "metadata": {}
  }
 ],
 "metadata": {
  "orig_nbformat": 4,
  "language_info": {
   "name": "python"
  }
 },
 "nbformat": 4,
 "nbformat_minor": 2
}