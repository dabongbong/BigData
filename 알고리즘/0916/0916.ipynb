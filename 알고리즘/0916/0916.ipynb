{
 "cells": [
  {
   "cell_type": "markdown",
   "source": [
    "# 정렬 알고리즘 sort\n",
    "데이터를 오름차순 또는 내림차순으로 나열하는 알고리즘. 다양한 분야에 상당히 많이 사용된다.\n",
    "\n",
    "1. 단순 선택법\n",
    "2. 단순 교환법 ( bubble sort )\n",
    "3. 단순 삽입법\n",
    "4. 퀵 정렬"
   ],
   "metadata": {}
  },
  {
   "cell_type": "markdown",
   "source": [
    "1. 단순 선택법\n",
    "    => 가장 작은 데이터를 선택하여 맨 앞으로 순서대로 정렬한다.\n",
    "    "
   ],
   "metadata": {}
  },
  {
   "cell_type": "code",
   "execution_count": null,
   "source": [
    "arr = [12, 13, 11, 14, 10]\n",
    "i = 0\n",
    "\n",
    "while True:\n",
    "    if i < 4 :\n",
    "        min = i \n",
    "        k = i + 1\n",
    "        while k < 5:\n",
    "            if arr[k] < arr[min]:\n",
    "                min = k\n",
    "            k = k + 1\n",
    "        t = arr[i]\n",
    "        arr[i] = arr[min]\n",
    "        arr[min] = t\n",
    "        i = i + 1\n",
    "    else :\n",
    "        print(arr)\n",
    "        break\n",
    "                \n",
    "\n"
   ],
   "outputs": [],
   "metadata": {}
  },
  {
   "cell_type": "markdown",
   "source": [
    "# 단순 교환법 ( bubble sort )\n",
    "    - 단순 교환법은 인접한 데이터를 교환하는 처리를 반복하여 전체를 정렬한다. \n",
    "    - 단순한 알고리즘이지만 실행 속도가 느리다\n",
    "    - 단순 교환법은 버블 정렬이라고도 한다. 정렬되는 모습이 마치 거품이 수면위에서 임직이는 것처럼 보인다고 해서 붙혀진 이름이다. "
   ],
   "metadata": {}
  },
  {
   "cell_type": "code",
   "execution_count": null,
   "source": [
    "arr = [5,3,4,1,2]\n",
    "k = 0\n",
    "\n",
    "while True:\n",
    "    if k < 4:\n",
    "        i = 4\n",
    "        while True:\n",
    "            if i > k:\n",
    "                if arr[i - 1] > arr[i]:\n",
    "                    t = arr[i - 1]\n",
    "                    arr[i - 1] = arr[i]\n",
    "                    arr[i] = t\n",
    "                i = i - 1\n",
    "            else:\n",
    "                k = k + 1\n",
    "                break\n",
    "    else:\n",
    "        print(arr)\n",
    "        break"
   ],
   "outputs": [],
   "metadata": {}
  },
  {
   "cell_type": "markdown",
   "source": [
    " # 단순 삽입법\n",
    "\n",
    " 올바른 순서가 되도록 데이터를 삽입한다. \n",
    " 다른 이름으로 삽입정렬, 기본삽입법, 삽입법이라고 한다. \n",
    "\n",
    " 요소를 하나씩 차례대로 올바른 위치에 삽입하여 최종적으로 전체를 정렬한다. \n",
    "\n",
    " 5 3 4 1 2\n",
    "      먼저 제일 왼쪽에 있는 숫자를 정렬이 된상태라고 가정한다. 나머지 4개는 정렬이 안된 상태로 가정한다. \n",
    "\n",
    " 5       3 4 1 2\n",
    "      아직 아무것도 하지 않은 단계에서 정렬된 데이터이라고 가정하는 이유는 정렬된 공이 하나도 없으면 대소를 비교할 대상이 없기 때문이다. 따라서 정렬되지 않은 데이터을 정확한 위치에 삽입할수 없기 때문에 우선 0번의 데이터를 '정렬되었다' 라고 가정한다. \n",
    "\n",
    "       정렬되지 않은 데이터 중에서 가장 왼쪽의 데이터 부터 정렬된 데이터의 올바른 위치에 삽입하는 방법을 사용한다. 현재 정렬되지 않은 데이터들의 가장 왼쪽에 있는 3 데이터를 정렬된 데이터 즉 5 의 올바른 위치에 삽입한다. 정확한 위치는 5의 앞이 된다. 3을 5의 앞에 삽입한다. \n",
    "\n",
    "3 5       4 1 2\n",
    "\n",
    "원래 0번 위치에 있던 데이터 5를 1의 위치로 옮기고 3 데이터를 0번째로 넣는다. \n",
    "이제 0, 1 번째가 '정렬된 상태'가 되었다.\n",
    "\n",
    "다음으로 index 2번째에 있는 4 데이터를 '정렬된 데이터' 중에 올바른 위치로 삽입한다. \n",
    "\n",
    "3 4 5     1 2\n",
    "\n",
    "현재 3 4 5 가 정렬된 상태가 되었다. \n",
    "1을 올바른 위치에 삽입한다. \n",
    "\n",
    "1 3 4 5   2\n",
    "\n",
    "\n",
    "1 2 3 4 5 최종 정렬이 완성되었다. \n"
   ],
   "metadata": {}
  },
  {
   "cell_type": "code",
   "execution_count": 1,
   "source": [
    "arr = [5, 3, 4, 1, 2]\n",
    "i = 1\n",
    "\n",
    "while True:\n",
    "  if i < 5:\n",
    "    x = arr[i] \n",
    "    k = i\n",
    "    while True:\n",
    "      if arr[k-1] > x and k > 0:\n",
    "        arr[k] = arr[k-1] \n",
    "        k = k - 1\n",
    "      else:\n",
    "        arr[k] = x\n",
    "        i += 1\n",
    "        break\n",
    "  else:\n",
    "    print(arr)\n",
    "    break"
   ],
   "outputs": [
    {
     "output_type": "stream",
     "name": "stdout",
     "text": [
      "[1, 2, 3, 4, 5]\n"
     ]
    }
   ],
   "metadata": {}
  },
  {
   "cell_type": "markdown",
   "source": [
    "# 퀵정렬 \n",
    "데이터를 대소 그룹의 둘로 나누어 분해한 후 전체를 정렬하는 알고리즘이다. 실행속도 무지 엄청 빠른 것이 특징이다. 퀵정렬은 대량의 데이터를 정렬할 때 자주 사용된다. 유명한 알고리즘 중에서도 실제로 사용되는 빈도가 가장 높은 중요한 알고리즘이다.\n",
    "5 3 7 6 8 4 1 2 9\n",
    "우선 정렬의 기준 데이터를 선택하자. 제일 왼쪽의 '5'를 기준 데이터로 사용한다.\n",
    "그 기준 데이이터인 5보다 작은 데이터들은 왼쪽으로 5보다 큰 데이터들은 오른쪽으로 배치한다.\n",
    "3 4 1 2 5 7 6 8 9\n",
    "5보다 작은 데이터는 모두 5 왼쪽에 위치하고 5보다 큰 데이터는 모두 5 오른쪽에 위치하게 된다. 5는 4의 정착했다. 앞으로 5는 더이상 위치를 변경시키지 않아도 된다. 위치가 정해졌다.\n",
    "자 이제 5보다 작은 데이터 그룹과 5보다 큰 데이터 그룹에 대해 각각 지금 실행한 정렬과 똑같은 작업을 수행한다.\n",
    "7 6 8 9\n",
    "6 7 8 9\n",
    "1 2 3 4\n",
    "1 2 3 4 5 6 7 8 9"
   ],
   "metadata": {}
  },
  {
   "cell_type": "markdown",
   "source": [],
   "metadata": {}
  }
 ],
 "metadata": {
  "orig_nbformat": 4,
  "language_info": {
   "name": "python",
   "version": "3.8.8",
   "mimetype": "text/x-python",
   "codemirror_mode": {
    "name": "ipython",
    "version": 3
   },
   "pygments_lexer": "ipython3",
   "nbconvert_exporter": "python",
   "file_extension": ".py"
  },
  "kernelspec": {
   "name": "python3",
   "display_name": "Python 3.8.8 64-bit ('base': conda)"
  },
  "interpreter": {
   "hash": "3dfc746934a9e0b0e7ef1fe2e791861d190962914c3a81e9b1d5dfe436b11ddc"
  }
 },
 "nbformat": 4,
 "nbformat_minor": 2
}